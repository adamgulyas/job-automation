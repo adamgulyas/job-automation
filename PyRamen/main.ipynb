{
 "cells": [
  {
   "cell_type": "code",
   "execution_count": null,
   "metadata": {},
   "outputs": [],
   "source": [
    "# Import the pathlib and csv library\n",
    "from pathlib import Path\n",
    "import csv\n",
    "\n",
    "# Set the path to the csv file\n",
    "csvpath = Path('./data/menu_data.csv')\n",
    "\n",
    "# Create a list of records\n",
    "records = []\n",
    "\n",
    "# Open the csv file\n",
    "with open(csvpath, 'r') as csvfile:\n",
    "\n",
    "  # Read the csv file into an iterable object (type <class '_csv.reader'>)\n",
    "  budget_data = csv.reader(csvfile, delimiter=',')\n",
    "\n",
    "  # Skip the header row of the csv file\n",
    "  next(budget_data)"
   ]
  }
 ],
 "metadata": {
  "language_info": {
   "name": "python"
  },
  "orig_nbformat": 4
 },
 "nbformat": 4,
 "nbformat_minor": 2
}
