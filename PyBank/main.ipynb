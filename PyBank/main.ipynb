{
 "cells": [
  {
   "cell_type": "code",
   "execution_count": 11,
   "metadata": {},
   "outputs": [
    {
     "name": "stdout",
     "output_type": "stream",
     "text": [
      "Bank of Python Financial Analysis\n",
      "----------------------------\n",
      "Total Months: 86\n",
      "Total: 38382578\n",
      "Average Change: 446309.05\n",
      "Greatest increase in profits: Feb-2012 ($1170593)\n",
      "Greatest decrease in profits: Sep-2013 ($-1196225)\n",
      "\n"
     ]
    }
   ],
   "source": [
    "# Import the pathlib and csv library\n",
    "from pathlib import Path\n",
    "import csv\n",
    "\n",
    "# Set the path to the csv file\n",
    "csvpath = Path('./data/budget_data.csv')\n",
    "\n",
    "# Open the file\n",
    "with open(csvpath, 'r') as csvfile:\n",
    "\n",
    "  # Read the file into an iterable csv reader object (type <class '_csv.reader'>)\n",
    "  budget_data = csv.reader(csvfile, delimiter=',')\n",
    "\n",
    "  # Skip the header row of the csv file\n",
    "  next(budget_data)\n",
    "\n",
    "  # Initialize variables required for logic and calculations\n",
    "  month_index = 0\n",
    "  total_pnl = 0\n",
    "  avg_pnl_change = 0.00\n",
    "  minimum_pnl = 0\n",
    "  maximum_pnl = 0\n",
    "  minimum_date = ''\n",
    "  maximum_date = ''\n",
    "\n",
    "  # Loop through each month's pnl\n",
    "  for row in budget_data:\n",
    "    \n",
    "    # Tally up the total number of months\n",
    "    month_index += 1\n",
    "\n",
    "    # Set the current month's pnl\n",
    "    month_pnl = int(row[1])\n",
    "\n",
    "    # Tally up the total pnl\n",
    "    total_pnl += month_pnl\n",
    "\n",
    "    # Find the highest and lowest increases in daily pnl\n",
    "    if minimum_pnl == 0:\n",
    "        minimum_pnl = month_pnl\n",
    "        minimum_date = row[0]\n",
    "    elif month_pnl < minimum_pnl:\n",
    "        minimum_pnl = month_pnl\n",
    "        minimum_date = row[0]\n",
    "    elif month_pnl > maximum_pnl:\n",
    "        maximum_pnl = month_pnl\n",
    "        maximum_date = row[0]\n",
    "\n",
    "# Calculate the average monthly pnl change\n",
    "avg_pnl_change = round(total_pnl/month_index, 2)\n",
    "\n",
    "### END OF CALCULATIONS ###\n",
    "\n",
    "# Assemble a readable message to present our financial analysis\n",
    "financial_analysis_message = (\n",
    "  f'Bank of Python Financial Analysis\\n'\n",
    "  f'----------------------------\\n'\n",
    "  f'Total Months: {month_index}\\n'\n",
    "  f'Total: {total_pnl}\\n'\n",
    "  f'Average Change: {avg_pnl_change}\\n'\n",
    "  f'Greatest increase in profits: {maximum_date} (${maximum_pnl})\\n'\n",
    "  f'Greatest decrease in profits: {minimum_date} (${minimum_pnl})\\n'\n",
    ")\n",
    "\n",
    "# Print the financial analysis message to terminal\n",
    "print(financial_analysis_message)\n",
    "\n",
    "# Set the output path for a text file\n",
    "output = Path(\"financial_analysis.txt\")\n",
    "\n",
    "# Write the financial analysis message to a text file\n",
    "with open(output, 'w') as txt:\n",
    "  txt.write(financial_analysis_message)\n"
   ]
  }
 ],
 "metadata": {
  "interpreter": {
   "hash": "40d3a090f54c6569ab1632332b64b2c03c39dcf918b08424e98f38b5ae0af88f"
  },
  "kernelspec": {
   "display_name": "Python 3.9.7 ('base')",
   "language": "python",
   "name": "python3"
  },
  "language_info": {
   "codemirror_mode": {
    "name": "ipython",
    "version": 3
   },
   "file_extension": ".py",
   "mimetype": "text/x-python",
   "name": "python",
   "nbconvert_exporter": "python",
   "pygments_lexer": "ipython3",
   "version": "3.9.7"
  },
  "orig_nbformat": 4
 },
 "nbformat": 4,
 "nbformat_minor": 2
}
